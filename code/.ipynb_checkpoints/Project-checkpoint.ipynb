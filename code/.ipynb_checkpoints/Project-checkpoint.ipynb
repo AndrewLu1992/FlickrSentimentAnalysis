{
 "cells": [
  {
   "cell_type": "markdown",
   "metadata": {},
   "source": [
    "## Understanding Sentiment based on both Image Features and Text Information"
   ]
  },
  {
   "cell_type": "markdown",
   "metadata": {},
   "source": [
    "### Read in trained ANP classifiers"
   ]
  },
  {
   "cell_type": "code",
   "execution_count": 1,
   "metadata": {
    "collapsed": false,
    "scrolled": true
   },
   "outputs": [
    {
     "name": "stdout",
     "output_type": "stream",
     "text": [
      "detectors\\classifier1_20.pkl\n",
      "detectors\\classifier21_30.pkl\n",
      "detectors\\classifier31_40.pkl\n",
      "detectors\\classifier41_50.pkl\n",
      "detectors\\classifier51_60.pkl\n",
      "detectors\\classifier61_70.pkl\n",
      "detectors\\classifier71_80.pkl\n",
      "detectors\\classifier81_100.pkl\n",
      "detectors\\classifier101_120.pkl\n",
      "detectors\\classifier121_130.pkl\n",
      "detectors\\classifier131_140.pkl\n",
      "detectors\\classifier141_160.pkl\n",
      "detectors\\classifier161_170.pkl\n",
      "detectors\\classifier171_180.pkl\n",
      "detectors\\classifier181_200.pkl\n",
      "200 200 (646L, 128L)\n"
     ]
    }
   ],
   "source": [
    "import cPickle as pickle\n",
    "import os\n",
    "import re\n",
    "import cv2\n",
    "import numpy as np\n",
    "import io\n",
    "import ast\n",
    "import hashlib\n",
    "from scipy import sparse\n",
    "import matplotlib.pyplot as plt\n",
    "from bs4 import BeautifulSoup\n",
    "from sklearn.cross_validation import KFold\n",
    "from sklearn.feature_extraction.text import CountVectorizer\n",
    "from sklearn.linear_model import LogisticRegression\n",
    "from sklearn.naive_bayes import MultinomialNB\n",
    "from sklearn.metrics import accuracy_score\n",
    "%matplotlib inline\n",
    "\n",
    "\n",
    "def get_files(path):\n",
    "    \"\"\" Return a list of file names in this directory.\n",
    "    Params:\n",
    "        path....a directory containing .txt review files.\n",
    "    Returns:\n",
    "        a list of file names, sorted alphabetically.\n",
    "    \"\"\"\n",
    "    names = []\n",
    "    for root, dirs, files in os.walk(path):\n",
    "        for name in files:\n",
    "            names.append(os.path.join(root, name))\n",
    "    return names\n",
    "\n",
    "def readDetectors(path):\n",
    "    '''\n",
    "    This is to read in all detectors saved in the folder\n",
    "    path --- The folder where all detectors saved\n",
    "    Return:\n",
    "    a list of detectors.\n",
    "    '''\n",
    "    detectors = []\n",
    "    files = sorted(get_files(path), key=lambda item: int(re.split(\"[_.]+\", item)[-2]))\n",
    "    for item in files:\n",
    "        print item\n",
    "        with open(item, 'rb') as fid:\n",
    "            detectors.extend(pickle.load(fid))\n",
    "    return detectors\n",
    "\n",
    "def read(path):\n",
    "    '''\n",
    "    This is to read in classes each detectors trying to detect.\n",
    "    '''\n",
    "    with open(path, 'rb') as fid:\n",
    "            labels = pickle.load(fid)\n",
    "    return labels\n",
    "\n",
    "detectors = readDetectors(\"detectors\")\n",
    "labels = read(\"labels.pkl\")\n",
    "codebook = read(\"my_dumped_codebook.pkl\")\n",
    "print len(detectors), len(labels), codebook.shape"
   ]
  },
  {
   "cell_type": "markdown",
   "metadata": {},
   "source": [
    "### Read in collected dataset obtained through Flickr API"
   ]
  },
  {
   "cell_type": "code",
   "execution_count": 2,
   "metadata": {
    "collapsed": false,
    "scrolled": true
   },
   "outputs": [
    {
     "name": "stdout",
     "output_type": "stream",
     "text": [
      "250 of positive photo text data\n",
      "250 of negative photo text data\n",
      "# of all data: 500\n",
      "\n",
      "Sample data format: \n",
      "image url: https://farm6.staticflickr.com/5801/22768016020_d77cc96f68.jpg\n",
      "title: Starz - Vero Beach, Florida\n",
      "# of comments: 16\n",
      "Description: This is a twilight shot when I was out shooting for meteors. No, this is not some strange phenomenon that happened, just a little fun in post. Hope you enjoy.\n",
      "\n",
      "<a href=\"http://www.rscottduncan.com\" rel=\"nofollow\">www.rscottduncan.com</a>\n",
      "\n",
      "<a href=\"http://www.facebook.com/RScottDuncanPhotography\" rel=\"nofollow\">www.facebook.com/RScottDuncanPhotography</a>\n",
      "in the 70th image of positive set.\n"
     ]
    }
   ],
   "source": [
    "#Read in collected data.\n",
    "def readText(data_path):\n",
    "    string = io.open(data_path, encoding='utf8').readlines()\n",
    "    info = [ast.literal_eval(item.strip()) for item in string if len(item)>1]\n",
    "    return info\n",
    "\n",
    "pos = readText(\"imageAndText\"+os.sep+\"Positive.txt\")\n",
    "neg = readText(\"imageAndText\"+os.sep+\"Negative.txt\")\n",
    "all_files = pos + neg\n",
    "print \"%d of positive photo text data\" % (len(pos))\n",
    "print \"%d of negative photo text data\" % (len(neg))\n",
    "print \"# of all data: %d\" % len(all_files)\n",
    "print \"\\nSample data format: \"\n",
    "print \"image url: %s\\ntitle: %s\\n# of comments: %d\\nDescription: %s\\nin the %dth image of positive set.\" \\\n",
    "        %(pos[69][0], pos[69][1]['title'], len(pos[69][1]['comments']), pos[69][1]['description'], 70)"
   ]
  },
  {
   "cell_type": "markdown",
   "metadata": {},
   "source": [
    "### Extract Features of image and then conduct content based detection"
   ]
  },
  {
   "cell_type": "code",
   "execution_count": 3,
   "metadata": {
    "collapsed": false,
    "scrolled": false
   },
   "outputs": [
    {
     "data": {
      "text/plain": [
       "[('bright_lights', 0.99957756901808403),\n",
       " ('beautiful_clouds', 0.99928375800301705),\n",
       " ('ancient_city', 0.99922900419274685),\n",
       " ('awesome_night', 0.99920586285646595),\n",
       " ('awesome_clouds', 0.99865898421080568)]"
      ]
     },
     "execution_count": 3,
     "metadata": {},
     "output_type": "execute_result"
    }
   ],
   "source": [
    "#This is to extrct surf descriptor for a given set of images.\n",
    "#Code from BagOfVisualWords.py.\n",
    "def featureExtract(filenames, hessianT=500):\n",
    "    features = []\n",
    "    noneFeatures = []\n",
    "    for name in filenames:\n",
    "        if os.path.getsize(name) > 3000:\n",
    "            img = cv2.imread(name)\n",
    "            surf = cv2.SURF(hessianT)\n",
    "            if len(img.shape) > 2:\n",
    "                gray= cv2.cvtColor(img,cv2.COLOR_BGR2GRAY)\n",
    "            kp, des = surf.detectAndCompute(gray,None)\n",
    "            if des is not None:\n",
    "                features.append(des)\n",
    "            else:\n",
    "                noneFeatures.append(name)\n",
    "                os.remove(name)\n",
    "    return np.vstack(tuple(features)), features, noneFeatures\n",
    "\n",
    "#Code from BagOfVisualWords.py\n",
    "def quantization(features, codebook, t=0.7):\n",
    "    '''\n",
    "    Input\n",
    "    features --- a list of surf descriptors for each image in dataset\n",
    "    codebook --- visual vocabulary\n",
    "    t --- a threshold control if a match should be included.\n",
    "    Output\n",
    "    an ndarray matrix. Each row represents an image. \n",
    "                        Each column is a visual word.\n",
    "                        An entry in the matrix is the frequency of such visual words in an image.\n",
    "    '''\n",
    "    FLANN_INDEX_KDTREE = 0\n",
    "    k=0\n",
    "    index_params = dict(algorithm = FLANN_INDEX_KDTREE, trees = 5)\n",
    "    flann = cv2.FlannBasedMatcher(index_params, {})\n",
    "    result = np.zeros((len(features), len(codebook)), dtype=int)\n",
    "    \n",
    "    for feature in features:\n",
    "        matches = flann.knnMatch(feature, codebook, k=2)\n",
    "        for i,(m,n) in enumerate(matches):\n",
    "            if m.distance < t*n.distance:\n",
    "                result[k, m.trainIdx] += 1\n",
    "        k += 1\n",
    "        \n",
    "    return result\n",
    "\n",
    "def predict_class(image_path, codebook, labels, detectors, numOfResult=2):\n",
    "    '''\n",
    "    This function is to predict possibile content using classifiers and sort \n",
    "    classification result as per the probability of successful detection. We\n",
    "    choose numOfResult amount of result that has the biggest probabilities.\n",
    "    Return:\n",
    "    a list of tuple---[(content, probability)]\n",
    "    '''\n",
    "    probs = []\n",
    "    prediction = []\n",
    "    result = []\n",
    "    features = featureExtract(image_path)\n",
    "    X = quantization(features[1],codebook,t=1)\n",
    "    for i in range(0,len(detectors)):\n",
    "        probs.append(tuple(detectors[i].predict_proba(X)[0])) \n",
    "    probs = sorted(enumerate(probs), key=lambda x:x[1][0], reverse=True)[:numOfResult]\n",
    "    for item in probs:\n",
    "        result.append((labels[item[0]], item[1][0]))\n",
    "    return result\n",
    "\n",
    "predict_class([\"imageAndText\\\\image\\\\neg\\\\79.jpg\"], codebook, labels, detectors, 5)"
   ]
  },
  {
   "cell_type": "markdown",
   "metadata": {},
   "source": [
    "##   Processing obtained text and different approaches is defined for fine-tuning"
   ]
  },
  {
   "cell_type": "code",
   "execution_count": 4,
   "metadata": {
    "collapsed": false,
    "scrolled": true
   },
   "outputs": [],
   "source": [
    "def extractText(text):\n",
    "    soup = BeautifulSoup(text, \"lxml\")\n",
    "    return soup.get_text()\n",
    "\n",
    "def tokenize(text):\n",
    "    \"\"\"Given a string, return a list of tokens such that: (1) all\n",
    "    tokens are lowercase, (2) all punctuation is removed. Note that\n",
    "    underscore (_) is not considered punctuation.\n",
    "    Params:\n",
    "        text....a string\n",
    "    Returns:\n",
    "        a list of tokens\n",
    "    \"\"\"\n",
    "    text = text.lower()\n",
    "    token = re.sub(\"\\W+\", ' ', text).split()\n",
    "    return token\n",
    "\n",
    "def tokenize_with_punct(text):\n",
    "    \"\"\"Given a string, return a list of tokens such that: (1) all\n",
    "    tokens are lowercase, (2) all punctuation is kept as separate tokens.\n",
    "    Note that underscore (_) is not considered punctuation.\n",
    "    Params:\n",
    "        text....a string\n",
    "    Returns:\n",
    "        a list of tokens\n",
    "    \"\"\"\n",
    "    text = text.lower()\n",
    "    text =re.sub('[\\x85]', \" \", text)\n",
    "    return re.findall(\"\\w+|[^\\w\\s]\", text)\n",
    "\n",
    "def tokenize_with_not(text):\n",
    "    \"\"\"Does the same thing as tokenize_with_punct, with the following difference:\n",
    "    whenever the term 'not' appears, change the two subsequent tokens to have the prefix\n",
    "    'not_' prior to the token. See the example below. You may call \n",
    "    tokenize_with_punct as a subroutine.\n",
    "    Params:\n",
    "        text....a string\n",
    "    Returns:\n",
    "        a list of tokens\n",
    "    \"\"\"\n",
    "    tokens = tokenize_with_punct(text)\n",
    "    for i in range(0, len(tokens)):\n",
    "        if tokens[i] == \"not\":\n",
    "            if i+1 in range(0, len(tokens)):\n",
    "                tokens[i+1] = \"%s%s\" % (\"not_\", tokens[i+1])\n",
    "            if i+2 in range(0, len(tokens)):\n",
    "                tokens[i+2] = \"%s%s\" % (\"not_\", tokens[i+2])\n",
    "    return tokens\n",
    "\n",
    "def appendANPs(anps, text):\n",
    "    '''\n",
    "    append anps to the end of the whole string\n",
    "    '''\n",
    "    string = \"\"\n",
    "    for anp in anps:\n",
    "        string += anp[0].replace(\"_\", \" \")+\" \"\n",
    "    return text+\" \"+string\n"
   ]
  },
  {
   "cell_type": "markdown",
   "metadata": {},
   "source": [
    "###   Merge image information and text and then convert a list of files into a sparse csr_matrix"
   ]
  },
  {
   "cell_type": "code",
   "execution_count": 5,
   "metadata": {
    "collapsed": false
   },
   "outputs": [
    {
     "name": "stdout",
     "output_type": "stream",
     "text": [
      "size of data: 500\n",
      "sample merged data:\n",
      "[u'Skid Row Cleanup\\t', u'Skid Row Cleanup\\t', u'Skid Row Cleanup\\t', u'Skid Row Cleanup\\t', u'Skid Row Cleanup\\t']\n"
     ]
    }
   ],
   "source": [
    "def mergeText(files):\n",
    "    all_text = []\n",
    "    for item in files:\n",
    "        text = \"\"\n",
    "        if len(item[1]['title']) > 0:\n",
    "            text += extractText(item[1]['title'])+\"\\t\"\n",
    "        if len(item[1]['description']) > 0:\n",
    "            text += extractText(item[1]['description'])+\"\\t\"\n",
    "        if len(item[1]['comments']) > 0:\n",
    "            for comment in item[1]['comments']:\n",
    "                text += extractText(comment)+\"\\t\"\n",
    "        all_text.append(text)\n",
    "    return all_text\n",
    "\n",
    "data = mergeText(all_files)\n",
    "print \"size of data:\", len(data)\n",
    "print \"sample merged data:\\n\", data[-5:]"
   ]
  },
  {
   "cell_type": "code",
   "execution_count": 6,
   "metadata": {
    "collapsed": false
   },
   "outputs": [],
   "source": [
    "def mergeANPs(data, codebook=codebook, labels=labels, \\\n",
    "              detectors=detectors, numOfResult=2, path = \"imageAndText\"+os.sep+\"image\"):\n",
    "    result = []\n",
    "    num = len(data)/2\n",
    "    if numOfResult == 0:\n",
    "        return data\n",
    "    for i in range(len(data)):\n",
    "        tag=\"\"\n",
    "        if i < num:\n",
    "            tag=\"pos\"\n",
    "        else:\n",
    "            tag=\"neg\"\n",
    "        anps = predict_class([path+os.sep+tag+os.sep+str(i%num)+\".jpg\"], \\\n",
    "                             codebook, labels, detectors, numOfResult)\n",
    "        string = appendANPs(anps, data[i])\n",
    "        result.append(string)\n",
    "    return result\n",
    "\n",
    "full_data = mergeANPs(data)"
   ]
  },
  {
   "cell_type": "code",
   "execution_count": 7,
   "metadata": {
    "collapsed": false,
    "scrolled": true
   },
   "outputs": [
    {
     "name": "stdout",
     "output_type": "stream",
     "text": [
      "matrix represents 500 photos with 5266 features\n",
      "first doc has terms:\n",
      "[13, 14, 145, 162, 191, 211, 225, 245, 272, 304, 313, 320, 322, 331, 351, 360, 362, 370, 397, 439, 444, 461, 463, 466, 468, 484, 490, 547, 555, 562, 570, 576, 579, 580, 605, 630, 633, 634, 647, 649, 652, 657, 658, 660, 662, 677, 683, 711, 716, 717, 729, 738, 755, 774, 849, 864, 909, 912, 916, 929, 961, 968, 971, 972, 983, 994, 998, 1015, 1019, 1039, 1077, 1080, 1087, 1157, 1167, 1184, 1205, 1219, 1221, 1223, 1229, 1243, 1250, 1359, 1387, 1396, 1411, 1433, 1434, 1450, 1451, 1454, 1481, 1484, 1496, 1519, 1522, 1541, 1544, 1545, 1547, 1567, 1576, 1613, 1629, 1638, 1645, 1685, 1695, 1727, 1746, 1764, 1789, 1798, 1801, 1816, 1828, 1829, 1866, 1868, 1870, 1874, 1899, 1921, 1964, 1988, 2006, 2014, 2023, 2033, 2035, 2039, 2051, 2054, 2058, 2059, 2095, 2096, 2099, 2111, 2128, 2129, 2131, 2167, 2184, 2209, 2220, 2225, 2251, 2270, 2272, 2283, 2304, 2305, 2315, 2347, 2351, 2380, 2403, 2415, 2417, 2458, 2522, 2534, 2543, 2546, 2548, 2555, 2574, 2591, 2629, 2631, 2632, 2634, 2642, 2651, 2654, 2700, 2704, 2729, 2734, 2760, 2790, 2791, 2799, 2805, 2826, 2853, 2860, 2941, 2943, 2964, 2973, 2978, 2979, 2987, 3006, 3065, 3091, 3110, 3153, 3195, 3237, 3239, 3240, 3244, 3265, 3285, 3312, 3324, 3334, 3343, 3353, 3383, 3389, 3400, 3402, 3413, 3421, 3441, 3445, 3465, 3472, 3480, 3497, 3545, 3550, 3580, 3588, 3589, 3592, 3593, 3610, 3612, 3615, 3653, 3659, 3663, 3683, 3704, 3710, 3712, 3715, 3830, 3831, 3837, 3844, 3892, 3893, 3910, 3935, 3962, 4019, 4060, 4062, 4099, 4121, 4148, 4160, 4212, 4214, 4234, 4235, 4318, 4328, 4343, 4355, 4357, 4366, 4376, 4380, 4431, 4482, 4500, 4520, 4552, 4557, 4582, 4584, 4595, 4597, 4652, 4653, 4654, 4657, 4660, 4661, 4680, 4692, 4697, 4699, 4702, 4704, 4742, 4764, 4771, 4805, 4808, 4832, 4849, 4851, 4865, 4917, 4925, 4932, 4946, 4957, 4967, 4979, 4982, 4987, 5007, 5012, 5013, 5015, 5069, 5076, 5080, 5134, 5155, 5157, 5164, 5168, 5184, 5189, 5190, 5194, 5200, 5210, 5218, 5221, 5224, 5225, 5242, 5245, 5262]\n"
     ]
    }
   ],
   "source": [
    "# This code is cited from asg3. a small change in input data format.\n",
    "def do_vectorize(data, tokenizer_fn=tokenize, min_df=1,\n",
    "                 max_df=1., binary=True, ngram_range=(1,1)):\n",
    "    \"\"\"\n",
    "    Convert a list of filenames into a sparse csr_matrix, where\n",
    "    each row is a file and each column represents a unique word.\n",
    "    Use sklearn's CountVectorizer: http://goo.gl/eJ2PJ5\n",
    "    Params:\n",
    "        data.......list of review file names\n",
    "        tokenizer_fn....the function used to tokenize each document\n",
    "        min_df..........remove terms from the vocabulary that don't appear\n",
    "                        in at least this many documents\n",
    "        max_df..........remove terms from the vocabulary that appear in more\n",
    "                        than this fraction of documents\n",
    "        binary..........If true, each documents is represented by a binary\n",
    "                        vector, where 1 means a term occurs at least once in \n",
    "                        the document. If false, the term frequency is used instead.\n",
    "        ngram_range.....A tuple (n,m) means to use phrases of length n to m inclusive.\n",
    "                        E.g., (1,2) means consider unigrams and bigrams.\n",
    "    Return:\n",
    "        A tuple (X, vec), where X is the csr_matrix of feature vectors,\n",
    "        and vec is the CountVectorizer object.\n",
    "    \"\"\"\n",
    "    vectorizer = CountVectorizer(input='string', tokenizer = tokenizer_fn, \\\n",
    "                                 min_df = min_df, max_df = max_df, binary = binary,\\\n",
    "                                 ngram_range = ngram_range)\n",
    "    \n",
    "    return vectorizer.fit_transform(data).astype(int), vectorizer\n",
    "\n",
    "matrix, vec = do_vectorize(full_data)\n",
    "print ('matrix represents %d photos with %d features' % (matrix.shape[0], matrix.shape[1]))\n",
    "print('first doc has terms:\\n%s' % (str(sorted(matrix[0].nonzero()[1]))))"
   ]
  },
  {
   "cell_type": "markdown",
   "metadata": {},
   "source": [
    "###   Shuffle data and complete experiement model"
   ]
  },
  {
   "cell_type": "code",
   "execution_count": 8,
   "metadata": {
    "collapsed": false,
    "scrolled": true
   },
   "outputs": [
    {
     "name": "stdout",
     "output_type": "stream",
     "text": [
      "First shuffled document has label 1 and terms: [22, 166, 254, 285, 286, 468, 490, 636, 697, 874, 1071, 1137, 1180, 1219, 1734, 1881, 2028, 2199, 2404, 2668, 2669, 2670, 2671, 2879, 3066, 3362, 3383, 3400, 3629, 3704, 4013, 4061, 4660, 4864, 4932, 4987, 5210]\n"
     ]
    }
   ],
   "source": [
    "# This code is cited from asg3.\n",
    "def repeatable_random(seed):\n",
    "    hash = str(seed)\n",
    "    while True:\n",
    "        hash = hashlib.md5(hash).digest()\n",
    "        for c in hash:\n",
    "            yield ord(c)\n",
    "\n",
    "def repeatable_shuffle(X, y):\n",
    "    r = repeatable_random(42) \n",
    "    indices = sorted(range(X.shape[0]), key=lambda x: next(r))\n",
    "    return X[indices], y[indices]\n",
    "\n",
    "y = np.array([1]*250 + [0]*250)\n",
    "X, y= repeatable_shuffle(matrix, y)\n",
    "print('First shuffled document has label %d and terms: %s' % \n",
    "      (y[0], sorted(X[0].nonzero()[1])))"
   ]
  },
  {
   "cell_type": "code",
   "execution_count": 103,
   "metadata": {
    "collapsed": false,
    "scrolled": true
   },
   "outputs": [
    {
     "name": "stdout",
     "output_type": "stream",
     "text": [
      "fold 0 accuracy=0.8300\n",
      "fold 1 accuracy=0.8500\n",
      "fold 2 accuracy=0.8800\n",
      "fold 3 accuracy=0.8400\n",
      "fold 4 accuracy=0.8900\n",
      "average cross validation accuracy=0.8580\n"
     ]
    }
   ],
   "source": [
    "def get_clf(c=1.0):\n",
    "    return LogisticRegression(random_state=42, C=c)\n",
    "\n",
    "def do_cross_validation(X, y, n_folds=5, verbose=False, method=get_clf, c=1.0, alpha=-1):\n",
    "    \"\"\"\n",
    "    Perform n-fold cross validation, calling get_clf() to train n\n",
    "    different classifiers. Use sklearn's KFold class: http://goo.gl/wmyFhi\n",
    "    Be sure not to shuffle the data, otherwise your output will differ.\n",
    "    Params:\n",
    "        X.........a csr_matrix of feature vectors\n",
    "        y.........the true labels of each document\n",
    "        n_folds...the number of folds of cross-validation to do\n",
    "        verbose...If true, report the testing accuracy for each fold.\n",
    "    Return:\n",
    "        the average testing accuracy across all folds.\n",
    "    \"\"\"\n",
    "    kf = KFold(X.shape[0], n_folds)\n",
    "    total = 0\n",
    "    i = 0\n",
    "    for train_index, test_index in kf:\n",
    "        X_train, X_test = X[train_index], X[test_index]\n",
    "        y_train, y_test = y[train_index], y[test_index]\n",
    "        if c == 0:\n",
    "            if alpha != -1:\n",
    "                model = method(alpha=alpha)\n",
    "            else:\n",
    "                model = method()\n",
    "        else:\n",
    "            model = method(c=c)\n",
    "        model = model.fit(X_train, y_train)\n",
    "        accuracy = model.score(X_test, y_test)\n",
    "        if verbose:\n",
    "            print \"fold %d accuracy=%.4f\" % (i, accuracy)\n",
    "        total += accuracy\n",
    "        i += 1\n",
    "    return total/n_folds\n",
    "    \n",
    "print('average cross validation accuracy=%.4f' %\n",
    "      do_cross_validation(X, y, verbose=True))"
   ]
  },
  {
   "cell_type": "code",
   "execution_count": 87,
   "metadata": {
    "collapsed": false
   },
   "outputs": [],
   "source": [
    "#This is almost the same as that in asg3 except that I add a new tuning parameter.\n",
    "def do_expt(data, tokenizer_fn=tokenize, codebook=codebook, \\\n",
    "            labels=labels, detectors=detectors, merged=True,\n",
    "            method=get_clf, min_df=1, max_df=1., binary=True,\n",
    "            ngram_range=(1,1), c=1.0, alpha=-1, n_folds=5, numOfANPs=2):\n",
    "    \"\"\"\n",
    "    Run one experiment, which consists of vectorizing each file,\n",
    "    performing cross-validation, and returning the average accuracy.\n",
    "    You should call do_vectorize and do_cross_validation here.\n",
    "    Params:\n",
    "        data.......list of strings, without adding any anps\n",
    "        tokenizer_fn....the function used to tokenize each document\n",
    "        min_df..........remove terms from the vocabulary that don't appear\n",
    "                        in at least this many documents\n",
    "        max_df..........remove terms from the vocabulary that appear in more\n",
    "                        than this fraction of documents\n",
    "        binary..........If true, each documents is represented by a binary\n",
    "                        vector, where 1 means a term occurs at least once in \n",
    "                        the document. If false, the term frequency is used instead.\n",
    "        ngram_range.....A tuple (n,m) means to use phrases of length n to m inclusive.\n",
    "                        E.g., (1,2) means consider unigrams and bigrams.\n",
    "        n_folds.........The number of cross-validation folds to use.\n",
    "    Returns:\n",
    "        the average cross validation testing accuracy.\n",
    "    \"\"\"\n",
    "    if not merged and numOfANPs != 0:\n",
    "        data = mergeANPs(data, codebook, labels, detectors, numOfResult=numOfANPs)\n",
    "    labels = np.array([1]*250 + [0]*250)\n",
    "    matrix, vec = do_vectorize(data, tokenizer_fn, min_df,\\\n",
    "                               max_df, binary, ngram_range)\n",
    "    X, y= repeatable_shuffle(matrix, labels)\n",
    "    return do_cross_validation(X, y, n_folds, method=method, c=c, alpha=alpha)"
   ]
  },
  {
   "cell_type": "markdown",
   "metadata": {},
   "source": [
    "### Compare accuracy of various parameter settings"
   ]
  },
  {
   "cell_type": "code",
   "execution_count": 74,
   "metadata": {
    "collapsed": false,
    "scrolled": false
   },
   "outputs": [
    {
     "data": {
      "image/png": "[encoded data removed]",
      "text/plain": [
       "<matplotlib.figure.Figure at 0x1968f208>"
      ]
     },
     "metadata": {},
     "output_type": "display_data"
    },
    {
     "data": {
      "text/plain": [
       "[0.83799999999999997,\n",
       " 0.85599999999999987,\n",
       " 0.84999999999999998,\n",
       " 0.87023172905525825,\n",
       " 0.86400000000000021,\n",
       " 0.85999999999999988]"
      ]
     },
     "execution_count": 74,
     "metadata": {},
     "output_type": "execute_result"
    }
   ],
   "source": [
    "def compare_n_folds(full_data, method=get_clf, binary=True, c=1.0):\n",
    "    \"\"\"\n",
    "    Vary the setting of n_folds parameter in the do_expt \n",
    "    function to be in [2,5,10,20]. For each setting, call do_expt and \n",
    "    store the resulting accuracy. Plot the accuracies for each setting.\n",
    "    Also return the list of accuracies. Use the default value for all\n",
    "    other arguments to the do_expt function.\n",
    "    Params:\n",
    "        filenames....list of training file names\n",
    "        y............true labels for each file (a numpy array)\n",
    "    Returns:\n",
    "        a list of average testing accuracies, one per fold.\n",
    "    \"\"\"\n",
    "    accuracies = [do_expt(data, n_folds=i, binary=binary, method=method, c=c) for i in [2, 5, 10, 15, 20, 25]]\n",
    "    plt.plot([2, 5, 10, 15, 20, 25], accuracies, 'bo-')\n",
    "    plt.ylabel('accuracy')\n",
    "    plt.xlabel('n_folds')\n",
    "    plt.show()\n",
    "    return accuracies\n",
    "    \n",
    "compare_n_folds(full_data)"
   ]
  },
  {
   "cell_type": "code",
   "execution_count": 179,
   "metadata": {
    "collapsed": false
   },
   "outputs": [
    {
     "data": {
      "image/png": "[encoded data removed]",
      "text/plain": [
       "<matplotlib.figure.Figure at 0x18309390>"
      ]
     },
     "metadata": {},
     "output_type": "display_data"
    },
    {
     "data": {
      "text/plain": [
       "[0.85599999999999987,\n",
       " 0.84599999999999986,\n",
       " 0.85799999999999998,\n",
       " 0.83800000000000008,\n",
       " 0.82799999999999996,\n",
       " 0.85199999999999998,\n",
       " 0.84600000000000009]"
      ]
     },
     "execution_count": 179,
     "metadata": {},
     "output_type": "execute_result"
    }
   ],
   "source": [
    "#This part is to compare different ANPs we include in each vector.\n",
    "\n",
    "def compare_n_ANPs(data, binary=True, method=get_clf, c=1.0):\n",
    "    \"\"\"\n",
    "    Vary the setting of n_folds parameter in the do_expt \n",
    "    function to be in [2,5,10,20]. For each setting, call do_expt and \n",
    "    store the resulting accuracy. Plot the accuracies for each setting.\n",
    "    Also return the list of accuracies. Use the default value for all\n",
    "    other arguments to the do_expt function.\n",
    "    Params:\n",
    "        filenames....list of training file names\n",
    "        y............true labels for each file (a numpy array)\n",
    "    Returns:\n",
    "        a list of average testing accuracies, one per fold.\n",
    "    \"\"\"\n",
    "    accuracies = [do_expt(data, binary=binary, \\\n",
    "                          merged=False, numOfANPs=i, method=method, c=c) for i in [0, 1, 2, 4, 6, 8, 10]]\n",
    "    plt.plot([0, 1, 2, 4, 6, 8, 10], accuracies, 'bo-')\n",
    "    plt.ylabel('accuracy')\n",
    "    plt.xlabel('numOfANPs')\n",
    "    plt.show()\n",
    "    return accuracies\n",
    "    \n",
    "compare_n_ANPs(data)"
   ]
  },
  {
   "cell_type": "code",
   "execution_count": 75,
   "metadata": {
    "collapsed": false
   },
   "outputs": [
    {
     "data": {
      "text/plain": [
       "[0.85799999999999998, 0.85799999999999998]"
      ]
     },
     "execution_count": 75,
     "metadata": {},
     "output_type": "execute_result"
    }
   ],
   "source": [
    "def compare_binary(full_data, method=get_clf, c=1.0):\n",
    "    \"\"\"\n",
    "    How does the binary parameter affect results? \n",
    "    Call do_expt twice, once with binary=True, and once with binary=False.\n",
    "    Return the average accuracies for each. Use the default parameters for the\n",
    "    remaining arguments in do_expt.\n",
    "    Params:\n",
    "        filenames....list of training file names\n",
    "        y............true labels for each file (a numpy array)\n",
    "    Returns:\n",
    "        a list of average testing accuracies. The first entry\n",
    "        is for binary=True, the second is for binary=False.\n",
    "    \"\"\"\n",
    "    return [do_expt(full_data, method=method, c=c), do_expt(full_data, method=method, binary=False, c=c)]\n",
    "          \n",
    "compare_binary(full_data)"
   ]
  },
  {
   "cell_type": "markdown",
   "metadata": {},
   "source": [
    "#### From experiment above, there seems to be no difference."
   ]
  },
  {
   "cell_type": "code",
   "execution_count": 76,
   "metadata": {
    "collapsed": false
   },
   "outputs": [
    {
     "data": {
      "text/plain": [
       "[0.85799999999999998, 0.86799999999999999, 0.86599999999999999]"
      ]
     },
     "execution_count": 76,
     "metadata": {},
     "output_type": "execute_result"
    }
   ],
   "source": [
    "def tokenizer_expt(full_data, binary=True, method=get_clf, c=1.0):\n",
    "    \"\"\"\n",
    "    How does the tokenizer affect results? \n",
    "    Call do_expt three times, using three different tokenizers:\n",
    "    1- tokenize\n",
    "    2- tokenize_with_punct\n",
    "    3- tokenize_with_not\n",
    "    Return the average cross-validation accuracy for each approach,\n",
    "    in the above order. Use the default parameters for all other \n",
    "    arguments to do_expt.\n",
    "    Params:\n",
    "        filenames....list of training file names\n",
    "        y............true labels for each file (a numpy array)\n",
    "    Returns:\n",
    "        a list of average testing accuracies for each tokenizer.\n",
    "    \"\"\"\n",
    "    return [do_expt(full_data, binary=binary, method=method, c=c), do_expt(full_data, binary=binary, method=method,\\\n",
    "                                                 tokenizer_fn = tokenize_with_punct, c=c),\\\n",
    "            do_expt(full_data, method=method, binary=binary, tokenizer_fn = tokenize_with_not, c=c)]\n",
    "\n",
    "tokenizer_expt(full_data)"
   ]
  },
  {
   "cell_type": "markdown",
   "metadata": {},
   "source": [
    "#### This indicates that tokenize with punct contribute to a small increment in accuracy"
   ]
  },
  {
   "cell_type": "code",
   "execution_count": 81,
   "metadata": {
    "collapsed": false,
    "scrolled": true
   },
   "outputs": [
    {
     "data": {
      "image/png": "[encoded data removed]",
      "text/plain": [
       "<matplotlib.figure.Figure at 0x180f5748>"
      ]
     },
     "metadata": {},
     "output_type": "display_data"
    },
    {
     "data": {
      "text/plain": [
       "[0.86799999999999999,\n",
       " 0.86599999999999999,\n",
       " 0.86199999999999988,\n",
       " 0.85199999999999998,\n",
       " 0.85799999999999998,\n",
       " 0.85999999999999999,\n",
       " 0.85399999999999987,\n",
       " 0.84999999999999998,\n",
       " 0.84000000000000008,\n",
       " 0.83399999999999996]"
      ]
     },
     "execution_count": 81,
     "metadata": {},
     "output_type": "execute_result"
    }
   ],
   "source": [
    "def min_df_expt(full_data, binary=True, method=get_clf, c=1.0):\n",
    "    \"\"\"\n",
    "    Vary the setting of min_df parameter in the do_expt \n",
    "    function to be ints in the range (1,10) (inclusive). For each setting,\n",
    "    call do_expt and store the resulting accuracy. Plot the accuracies for each setting.\n",
    "    Also return the list of accuracies. Use the default value for all\n",
    "    other arguments to the do_expt function, except that the tokenizer\n",
    "    should be tokenize_with_not.\n",
    "    Params:\n",
    "        filenames....list of training file names\n",
    "        y............true labels for each file (a numpy array)\n",
    "    Returns:\n",
    "        a list of average testing accuracies, one per min_df value.\n",
    "    \"\"\"\n",
    "    accuracies = [do_expt(full_data, method=method, min_df=i, binary=binary, \\\n",
    "                          tokenizer_fn=tokenize_with_punct, c=c) for i in range(1, 11)]\n",
    "    plt.plot(range(1, 11), accuracies, \"bo-\")\n",
    "    plt.ylabel(\"accuracy\")\n",
    "    plt.xlabel(\"min_df\")\n",
    "    plt.show()\n",
    "    return accuracies\n",
    "\n",
    "min_df_expt(full_data)"
   ]
  },
  {
   "cell_type": "markdown",
   "metadata": {},
   "source": [
    "#### We observe that min_df = 1 produces the best result"
   ]
  },
  {
   "cell_type": "code",
   "execution_count": 82,
   "metadata": {
    "collapsed": false,
    "scrolled": true
   },
   "outputs": [
    {
     "data": {
      "image/png": "[encoded data removed]",
      "text/plain": [
       "<matplotlib.figure.Figure at 0x1821d518>"
      ]
     },
     "metadata": {},
     "output_type": "display_data"
    },
    {
     "data": {
      "text/plain": [
       "[0.73399999999999999,\n",
       " 0.8640000000000001,\n",
       " 0.88000000000000012,\n",
       " 0.86799999999999999,\n",
       " 0.86799999999999999,\n",
       " 0.86799999999999999,\n",
       " 0.86799999999999999,\n",
       " 0.86799999999999999,\n",
       " 0.86799999999999999,\n",
       " 0.86799999999999999]"
      ]
     },
     "execution_count": 82,
     "metadata": {},
     "output_type": "execute_result"
    }
   ],
   "source": [
    "def max_df_expt(full_data, binary=True, method=get_clf, c=1.0):\n",
    "    \"\"\"\n",
    "    Vary the setting of max_df parameter in the do_expt \n",
    "    function to be one of [.1, .2, .3, .4, .5, .6, .7, .8, .9, 1.].\n",
    "    For each setting, call do_expt and store the resulting accuracy.\n",
    "    Plot the accuracies for each setting. Also return the list of accuracies.\n",
    "    Use the default value for all other arguments to the do_expt function,\n",
    "    except that the tokenizer=tokenize_with_not and min_df=2.\n",
    "    Params:\n",
    "        filenames....list of training file names\n",
    "        y............true labels for each file (a numpy array)\n",
    "    Returns:\n",
    "        a list of average testing accuracies, one per max_df value.\n",
    "    \"\"\"\n",
    "    accuracies = [do_expt(full_data, method=method, binary=binary,\\\n",
    "                          min_df=1, max_df=i, tokenizer_fn=tokenize_with_punct, c=c)\\\n",
    "                  for i in np.arange(.1, 1.1, .1)]\n",
    "    plt.plot(np.arange(.1, 1.1, .1), accuracies, \"bo-\")\n",
    "    plt.ylabel(\"accuracy\")\n",
    "    plt.xlabel(\"max_df\")\n",
    "    plt.show()\n",
    "    return accuracies\n",
    "    \n",
    "max_df_expt(full_data)"
   ]
  },
  {
   "cell_type": "code",
   "execution_count": 49,
   "metadata": {
    "collapsed": false,
    "scrolled": true
   },
   "outputs": [
    {
     "data": {
      "image/png": "[encoded data removed]",
      "text/plain": [
       "<matplotlib.figure.Figure at 0x17ac3e48>"
      ]
     },
     "metadata": {},
     "output_type": "display_data"
    },
    {
     "data": {
      "text/plain": [
       "[0.67800000000000005,\n",
       " 0.70799999999999996,\n",
       " 0.77200000000000002,\n",
       " 0.85199999999999998,\n",
       " 0.88000000000000012,\n",
       " 0.874]"
      ]
     },
     "execution_count": 49,
     "metadata": {},
     "output_type": "execute_result"
    }
   ],
   "source": [
    "def c_expt(full_data, binary=True, method=get_clf):\n",
    "    \n",
    "    accuracies = [do_expt(full_data, method=method, binary=binary,\\\n",
    "                          min_df=1, max_df=0.3, c=i, tokenizer_fn=tokenize_with_punct)\\\n",
    "                  for i in [0.0001, 0.001, 0.01, 0.1, 1, 10]]\n",
    "    plt.plot([0.0001, 0.001, 0.01, 0.1, 1, 10], accuracies, \"bo-\")\n",
    "    plt.ylabel(\"accuracy\")\n",
    "    plt.xlabel(\"C\")\n",
    "    plt.show()\n",
    "    return accuracies\n",
    "\n",
    "c_expt(full_data)"
   ]
  },
  {
   "cell_type": "markdown",
   "metadata": {
    "collapsed": false
   },
   "source": [
    "#### Based on above fine-tuning experiments, we set:\n",
    "1. binary=True\n",
    "2. tokenizer_fn=tokenize_with_punct\n",
    "3. min_df=1\n",
    "4. max_df=0.3\n",
    "5. numofANPs=2\n",
    "6. C=1.0\n",
    "\n",
    "#### Result in 5-fold cross validation accuracy: 0.880"
   ]
  },
  {
   "cell_type": "code",
   "execution_count": 65,
   "metadata": {
    "collapsed": false,
    "scrolled": true
   },
   "outputs": [
    {
     "name": "stdout",
     "output_type": "stream",
     "text": [
      "<type 'numpy.ndarray'>\n",
      "(1L, 2375L)\n"
     ]
    }
   ],
   "source": [
    "#Final classifier based on settings above.\n",
    "matrix, vec = do_vectorize(full_data, binary=True, \\\n",
    "                           tokenizer_fn=tokenize_with_punct, min_df=2, max_df=0.7)\n",
    "clf = get_clf(c=10)\n",
    "test_X, test_Y= repeatable_shuffle(matrix, np.array([1]*250+[0]*250))\n",
    "clf.fit(test_X, test_Y)\n",
    "print type(clf.coef_)\n",
    "print clf.coef_.shape"
   ]
  },
  {
   "cell_type": "code",
   "execution_count": 67,
   "metadata": {
    "collapsed": false,
    "scrolled": false
   },
   "outputs": [
    {
     "name": "stdout",
     "output_type": "stream",
     "text": [
      "top positive coefs: [(u'boston', 3.2956948605191023), (u'view', 3.1631143653401192), (u'halloween', 2.5643067964159605), (u'fallminishoot', 2.3285228761213559), (u'happy', 2.0852203362530517), (u'love', 1.5775700089239437), (u'brooklyn', 1.4287346293028695), (u'behind', 1.4174709884640162), (u'30', 1.3718295204677593), (u'|', 1.2944505987126067)]\n",
      "top negative coefs: [(u'homeless', -2.6527157383190243), (u'mistakes', -2.3200168833918742), (u'skid', -2.2340265018319694), (u'row', -2.2339474952892497), (u'cleanup', -2.1072745427168935), (u'house', -1.7553102541495378), (u'poor', -1.6971746434571835), (u'capital', -1.6942275343025348), (u'to', -1.6744385575571867), (u'this', -1.6655327588007527)]\n"
     ]
    }
   ],
   "source": [
    "#This function is cited from asg3 \n",
    "def get_top_coefficients(clf, vec, n=10):\n",
    "    \"\"\" Get the top n coefficients for each class (positive/negative).\n",
    "    Params:\n",
    "        clf...a LogisticRegression object that has already been fit to data.\n",
    "        vec...a CountVectorizer\n",
    "        n.....the number of features to print per class.\n",
    "    Returns:\n",
    "        Two lists of tuples. The first list containts the top terms for the positive\n",
    "        class. Each entry is a tuple of (string, float) pairs, where\n",
    "        string is the feature name and float is the coefficient.\n",
    "        The second list is the same but for the negative class.\n",
    "        In each list, entries should be sorted in descending order of \n",
    "        absolute value.\"\"\"\n",
    "    data = zip(vec.get_feature_names(), clf.coef_[0])\n",
    "    data = sorted(data, key=lambda tup: tup[1], reverse=True)\n",
    "    return data[:n], data[:-(n+1):-1]\n",
    "    \n",
    "\n",
    "pos_coef, neg_coef = get_top_coefficients(clf, vec, n=10)\n",
    "print('top positive coefs: %s' % str(pos_coef))\n",
    "print('top negative coefs: %s' % str(neg_coef))"
   ]
  },
  {
   "cell_type": "markdown",
   "metadata": {},
   "source": [
    "### Test Model on Test Dataset"
   ]
  },
  {
   "cell_type": "code",
   "execution_count": 18,
   "metadata": {
    "collapsed": false,
    "scrolled": false
   },
   "outputs": [
    {
     "name": "stdout",
     "output_type": "stream",
     "text": [
      "100 of positive photo text data\n",
      "100 of negative photo text data\n",
      "# of all data: 200\n",
      "\n",
      "Sample data format: \n",
      "image url: https://farm6.staticflickr.com/5760/22596200079_774a4ca8a8.jpg\n",
      "title: \n",
      "# of comments: 2\n",
      "Description: <a href=\"http://www.patrickjoust.com/\" rel=\"nofollow\">patrickjoust</a> | <a href=\"https://www.flickr.com/photos/patrickjoust/\">flickr</a> | <a href=\"http://patrickjoust.tumblr.com/\" rel=\"nofollow\">tumblr</a> | <a href=\"https://www.facebook.com/pages/Patrick-Joust-Photography/645241562187391\" rel=\"nofollow\">facebook</a> | <a href=\"http://www.magcloud.com/user/patrickjoust\" rel=\"nofollow\">books</a>\n",
      "\n",
      "...\n",
      "\n",
      "Fujica GW690\n",
      "\n",
      "Kodak Portra 160\n",
      "in the 5th image of negative set.\n"
     ]
    }
   ],
   "source": [
    "test_pos = readText(\"testData\"+os.sep+\"Positive.txt\")\n",
    "test_neg = readText(\"testData\"+os.sep+\"Negative.txt\")\n",
    "test_all_files = test_pos+test_neg\n",
    "\n",
    "print \"%d of positive photo text data\" % (len(test_pos))\n",
    "print \"%d of negative photo text data\" % (len(test_neg))\n",
    "print \"# of all data: %d\" % len(test_all_files)\n",
    "print \"\\nSample data format: \"\n",
    "print \"image url: %s\\ntitle: %s\\n# of comments: %d\\nDescription: %s\\nin the %dth image of negative set.\" \\\n",
    "        %(test_neg[4][0], test_neg[4][1]['title'], len(test_neg[4][1]['comments']), test_neg[4][1]['description'], 4+1)"
   ]
  },
  {
   "cell_type": "code",
   "execution_count": 19,
   "metadata": {
    "collapsed": false
   },
   "outputs": [],
   "source": [
    "test_data = mergeText(test_all_files)\n",
    "test_full_data = mergeANPs(test_data, path = \"testData\"+os.sep+\"image\")"
   ]
  },
  {
   "cell_type": "code",
   "execution_count": 66,
   "metadata": {
    "collapsed": false
   },
   "outputs": [
    {
     "name": "stdout",
     "output_type": "stream",
     "text": [
      "X_test represents 200 documents with 2375 features\n",
      "y_test has 100 positive and 100 negative labels\n",
      "testing accuracy=0.675\n"
     ]
    }
   ],
   "source": [
    "Y_test = np.array([1]*100 + [0]*100)\n",
    "X_test = vec.transform(test_full_data)\n",
    "\n",
    "print('X_test represents %d documents with %d features' % (X_test.shape[0], X_test.shape[1]))\n",
    "print('y_test has %d positive and %d negative labels' % (len(np.where(Y_test==1)[0]),\n",
    "                                                          len(np.where(Y_test==0)[0])))\n",
    "print('testing accuracy=%.4g' % accuracy_score(Y_test, clf.predict(X_test)))"
   ]
  },
  {
   "cell_type": "markdown",
   "metadata": {},
   "source": [
    "#### Above experiment indicates that such model performs bad(0.880 to 0.675) when predicting new descriptions and images. Our model is severely over-fitted. The possible reason is that training set we collected is not big enough, thus it cannot comprehensively represent population. \n"
   ]
  },
  {
   "cell_type": "markdown",
   "metadata": {},
   "source": [
    "### Training with Multinomial Niave Bayes"
   ]
  },
  {
   "cell_type": "code",
   "execution_count": 95,
   "metadata": {
    "collapsed": false,
    "scrolled": false
   },
   "outputs": [
    {
     "name": "stdout",
     "output_type": "stream",
     "text": [
      "fold 0 accuracy=0.8700\n",
      "fold 1 accuracy=0.7500\n",
      "fold 2 accuracy=0.8000\n",
      "fold 3 accuracy=0.7800\n",
      "fold 4 accuracy=0.7600\n",
      "average cross validation accuracy=0.7920\n"
     ]
    }
   ],
   "source": [
    "def get_mnb(alpha=1.0):\n",
    "    return MultinomialNB(alpha=alpha)\n",
    "\n",
    "print('average cross validation accuracy=%.4f' %\n",
    "      do_cross_validation(X, y, method=get_mnb, verbose=True, c=0))"
   ]
  },
  {
   "cell_type": "code",
   "execution_count": 104,
   "metadata": {
    "collapsed": false,
    "scrolled": false
   },
   "outputs": [
    {
     "data": {
      "image/png": "[encoded data removed]",
      "text/plain": [
       "<matplotlib.figure.Figure at 0x3a4c128>"
      ]
     },
     "metadata": {},
     "output_type": "display_data"
    },
    {
     "data": {
      "text/plain": [
       "[0.82399999999999995,\n",
       " 0.82799999999999996,\n",
       " 0.84000000000000008,\n",
       " 0.82786690433749244,\n",
       " 0.83399999999999996,\n",
       " 0.83400000000000007]"
      ]
     },
     "execution_count": 104,
     "metadata": {},
     "output_type": "execute_result"
    }
   ],
   "source": [
    "compare_n_folds(full_data, binary=True, method=get_mnb, c=0)"
   ]
  },
  {
   "cell_type": "code",
   "execution_count": 180,
   "metadata": {
    "collapsed": false,
    "scrolled": true
   },
   "outputs": [
    {
     "data": {
      "image/png": "[encoded data removed]",
      "text/plain": [
       "<matplotlib.figure.Figure at 0xa0a8a90>"
      ]
     },
     "metadata": {},
     "output_type": "display_data"
    },
    {
     "data": {
      "text/plain": [
       "[0.82799999999999996,\n",
       " 0.81200000000000006,\n",
       " 0.79200000000000004,\n",
       " 0.76800000000000002,\n",
       " 0.7579999999999999,\n",
       " 0.75,\n",
       " 0.74199999999999999]"
      ]
     },
     "execution_count": 180,
     "metadata": {},
     "output_type": "execute_result"
    }
   ],
   "source": [
    "compare_n_ANPs(data, method=get_mnb, c=0)"
   ]
  },
  {
   "cell_type": "markdown",
   "metadata": {},
   "source": [
    "ANPs = 0"
   ]
  },
  {
   "cell_type": "code",
   "execution_count": 105,
   "metadata": {
    "collapsed": false
   },
   "outputs": [
    {
     "data": {
      "text/plain": [
       "[0.82799999999999996, 0.7380000000000001]"
      ]
     },
     "execution_count": 105,
     "metadata": {},
     "output_type": "execute_result"
    }
   ],
   "source": [
    "compare_binary(data, method=get_mnb, c=0)"
   ]
  },
  {
   "cell_type": "markdown",
   "metadata": {},
   "source": [
    "binary=True"
   ]
  },
  {
   "cell_type": "code",
   "execution_count": 112,
   "metadata": {
    "collapsed": false,
    "scrolled": true
   },
   "outputs": [
    {
     "data": {
      "text/plain": [
       "[0.82799999999999996, 0.82800000000000007, 0.82800000000000007]"
      ]
     },
     "execution_count": 112,
     "metadata": {},
     "output_type": "execute_result"
    }
   ],
   "source": [
    "tokenizer_expt(data, method=get_mnb, c=0)"
   ]
  },
  {
   "cell_type": "markdown",
   "metadata": {},
   "source": [
    "tokenize_fn = with_punct"
   ]
  },
  {
   "cell_type": "code",
   "execution_count": 113,
   "metadata": {
    "collapsed": false,
    "scrolled": true
   },
   "outputs": [
    {
     "data": {
      "image/png": "[encoded data removed]",
      "text/plain": [
       "<matplotlib.figure.Figure at 0x196827b8>"
      ]
     },
     "metadata": {},
     "output_type": "display_data"
    },
    {
     "data": {
      "text/plain": [
       "[0.82800000000000007,\n",
       " 0.76800000000000002,\n",
       " 0.76000000000000001,\n",
       " 0.73599999999999999,\n",
       " 0.72399999999999998,\n",
       " 0.71999999999999997,\n",
       " 0.71799999999999997,\n",
       " 0.72399999999999998,\n",
       " 0.71599999999999997,\n",
       " 0.71799999999999997]"
      ]
     },
     "execution_count": 113,
     "metadata": {},
     "output_type": "execute_result"
    }
   ],
   "source": [
    "min_df_expt(data, method=get_mnb, c=0)"
   ]
  },
  {
   "cell_type": "markdown",
   "metadata": {},
   "source": [
    "min_df=1"
   ]
  },
  {
   "cell_type": "code",
   "execution_count": 108,
   "metadata": {
    "collapsed": false,
    "scrolled": true
   },
   "outputs": [
    {
     "data": {
      "image/png": "[encoded data removed]",
      "text/plain": [
       "<matplotlib.figure.Figure at 0x3c7ecf8>"
      ]
     },
     "metadata": {},
     "output_type": "display_data"
    },
    {
     "data": {
      "text/plain": [
       "[0.65800000000000003,\n",
       " 0.82400000000000007,\n",
       " 0.82199999999999984,\n",
       " 0.82800000000000007,\n",
       " 0.82800000000000007,\n",
       " 0.82800000000000007,\n",
       " 0.82800000000000007,\n",
       " 0.82800000000000007,\n",
       " 0.82800000000000007,\n",
       " 0.82800000000000007]"
      ]
     },
     "execution_count": 108,
     "metadata": {},
     "output_type": "execute_result"
    }
   ],
   "source": [
    "max_df_expt(data, method=get_mnb, c=0)"
   ]
  },
  {
   "cell_type": "markdown",
   "metadata": {},
   "source": [
    "max_df=0.5"
   ]
  },
  {
   "cell_type": "code",
   "execution_count": 115,
   "metadata": {
    "collapsed": false,
    "scrolled": true
   },
   "outputs": [
    {
     "data": {
      "image/png": "[encoded data removed]",
      "text/plain": [
       "<matplotlib.figure.Figure at 0x188bf588>"
      ]
     },
     "metadata": {},
     "output_type": "display_data"
    },
    {
     "data": {
      "text/plain": [
       "[0.65999999999999992,\n",
       " 0.82800000000000007,\n",
       " 0.82599999999999996,\n",
       " 0.82599999999999996,\n",
       " 0.81400000000000006,\n",
       " 0.79999999999999993,\n",
       " 0.79600000000000004]"
      ]
     },
     "execution_count": 115,
     "metadata": {},
     "output_type": "execute_result"
    }
   ],
   "source": [
    "def alpha_expt(data, binary=True, method=get_mnb, c=0):\n",
    "    \n",
    "    accuracies = [do_expt(data, method=method, binary=binary,\\\n",
    "                          min_df=1, max_df=0.5, c=0, alpha=i, tokenizer_fn=tokenize_with_punct)\\\n",
    "                  for i in [0.0, 1.0, 2.0, 3.0, 4.0, 5.0, 6.0]]\n",
    "    plt.plot([0, 1, 2, 3, 4, 5, 6], accuracies, \"bo-\")\n",
    "    plt.ylabel(\"accuracy\")\n",
    "    plt.xlabel(\"C\")\n",
    "    plt.show()\n",
    "    return accuracies\n",
    "\n",
    "alpha_expt(data)"
   ]
  },
  {
   "cell_type": "markdown",
   "metadata": {},
   "source": [
    "#### Alpha = 1"
   ]
  },
  {
   "cell_type": "markdown",
   "metadata": {},
   "source": [
    "#### Overall performance of MNB on training set: 0.828"
   ]
  },
  {
   "cell_type": "markdown",
   "metadata": {},
   "source": [
    "### Test MNB on testset"
   ]
  },
  {
   "cell_type": "code",
   "execution_count": 144,
   "metadata": {
    "collapsed": false
   },
   "outputs": [
    {
     "name": "stdout",
     "output_type": "stream",
     "text": [
      "(1L, 1656L)\n"
     ]
    }
   ],
   "source": [
    "matrix_mnb, vec_mnb = do_vectorize(data, binary=True, \\\n",
    "                           tokenizer_fn=tokenize_with_punct, min_df=3, max_df=0.5)\n",
    "mnb = get_mnb()\n",
    "test_X_mnb, test_Y_mnb= repeatable_shuffle(matrix_mnb, np.array([1]*250+[0]*250))\n",
    "mnb.fit(test_X_mnb, test_Y_mnb)\n",
    "print mnb.coef_.shape"
   ]
  },
  {
   "cell_type": "code",
   "execution_count": 145,
   "metadata": {
    "collapsed": false
   },
   "outputs": [
    {
     "name": "stdout",
     "output_type": "stream",
     "text": [
      "X_test represents 200 documents with 1656 features\n",
      "y_test has 100 positive and 100 negative labels\n",
      "testing accuracy=0.82\n"
     ]
    }
   ],
   "source": [
    "Y_test_mnb = np.array([1]*100 + [0]*100)\n",
    "X_test_mnb = vec_mnb.transform(test_data)\n",
    "\n",
    "print('X_test represents %d documents with %d features' % (X_test_mnb.shape[0], X_test_mnb.shape[1]))\n",
    "print('y_test has %d positive and %d negative labels' % (len(np.where(Y_test_mnb==1)[0]),\n",
    "                                                          len(np.where(Y_test_mnb==0)[0])))\n",
    "print('testing accuracy=%.4g' % accuracy_score(Y_test_mnb, mnb.predict(X_test_mnb)))"
   ]
  },
  {
   "cell_type": "markdown",
   "metadata": {},
   "source": [
    "### What if we use only features from images to classify?"
   ]
  },
  {
   "cell_type": "markdown",
   "metadata": {
    "collapsed": true
   },
   "source": [
    "#### First we need to train visual vocalulary for images in trainning set using bag of visual words model"
   ]
  },
  {
   "cell_type": "code",
   "execution_count": 147,
   "metadata": {
    "collapsed": false
   },
   "outputs": [
    {
     "data": {
      "text/plain": [
       "['imageAndText\\\\image\\\\pos\\\\0.jpg',\n",
       " 'imageAndText\\\\image\\\\pos\\\\1.jpg',\n",
       " 'imageAndText\\\\image\\\\pos\\\\2.jpg',\n",
       " 'imageAndText\\\\image\\\\pos\\\\3.jpg',\n",
       " 'imageAndText\\\\image\\\\pos\\\\4.jpg']"
      ]
     },
     "execution_count": 147,
     "metadata": {},
     "output_type": "execute_result"
    }
   ],
   "source": [
    "#Code from BagOfVisualWorlds.py\n",
    "def kmeans(data, k, maxIteration=10, accuracy=1.0, attempts=10):\n",
    "    '''\n",
    "    learning visual vocabulary for each ANP\n",
    "    '''\n",
    "    criteria = (cv2.TERM_CRITERIA_EPS + \\\n",
    "                cv2.TERM_CRITERIA_MAX_ITER, maxIteration, accuracy)\n",
    "    flags = cv2.KMEANS_RANDOM_CENTERS\n",
    "    compactness,labels,centers = cv2.kmeans(data, k, criteria, attempts, flags)\n",
    "    return compactness,labels,centers\n",
    "\n",
    "def findK(data):\n",
    "    '''\n",
    "    This is to estimate a possible # of clusters in a dataset.\n",
    "    Also the size of the codebook.\n",
    "    Initial k.\n",
    "    Rule of thumb estimation.\n",
    "    https://en.wikipedia.org/wiki/Determining_the_number_of_clusters_in_a_data_set\n",
    "    '''\n",
    "    return int((data.shape[0] / 2.0) ** 0.5+1)\n",
    "\n",
    "def build_codebook(files):\n",
    "    features = featureExtract(files)\n",
    "    codebook = kmeans(features[0], findK(features[0]))\n",
    "    return codebook[2]\n",
    "\n",
    "def sort(files):\n",
    "    return sorted(files, key=lambda x:int(x.split(\"\\\\\")[-1].split(\".\")[0]))\n",
    "\n",
    "image_files = sort(get_files(\"imageAndText\"+os.sep+\"image\"+os.sep+\"pos\"))+\\\n",
    "                sort(get_files(\"imageAndText\"+os.sep+\"image\"+os.sep+\"neg\"))\n",
    "image_files[:5]"
   ]
  },
  {
   "cell_type": "code",
   "execution_count": 148,
   "metadata": {
    "collapsed": true
   },
   "outputs": [],
   "source": [
    "vocabulary = build_codebook(image_files)"
   ]
  },
  {
   "cell_type": "code",
   "execution_count": 149,
   "metadata": {
    "collapsed": false
   },
   "outputs": [
    {
     "name": "stdout",
     "output_type": "stream",
     "text": [
      "We learned 442 visual words from training set.\n"
     ]
    }
   ],
   "source": [
    "print \"We learned %d visual words from training set.\"% (vocabulary.shape[0])"
   ]
  },
  {
   "cell_type": "markdown",
   "metadata": {},
   "source": [
    "#### Transform images into vetctors containning frequency of visual words"
   ]
  },
  {
   "cell_type": "code",
   "execution_count": 150,
   "metadata": {
    "collapsed": true
   },
   "outputs": [],
   "source": [
    "visual_data = quantization(featureExtract(image_files)[1], vocabulary)"
   ]
  },
  {
   "cell_type": "code",
   "execution_count": 151,
   "metadata": {
    "collapsed": false
   },
   "outputs": [
    {
     "name": "stdout",
     "output_type": "stream",
     "text": [
      "Shape of the frequency matrix: (500, 442)\n"
     ]
    }
   ],
   "source": [
    "visual_data = sparse.csr_matrix(visual_data)\n",
    "print \"Shape of the frequency matrix:\", visual_data.shape"
   ]
  },
  {
   "cell_type": "markdown",
   "metadata": {},
   "source": [
    "#### Train classifier"
   ]
  },
  {
   "cell_type": "code",
   "execution_count": 152,
   "metadata": {
    "collapsed": false
   },
   "outputs": [],
   "source": [
    "image_labels = np.array([1]*250 + [0]*250)\n",
    "image_X, image_Y= repeatable_shuffle(visual_data, image_labels)"
   ]
  },
  {
   "cell_type": "code",
   "execution_count": 153,
   "metadata": {
    "collapsed": false,
    "scrolled": false
   },
   "outputs": [
    {
     "name": "stdout",
     "output_type": "stream",
     "text": [
      "<type 'numpy.ndarray'>\n",
      "(1L, 442L)\n",
      "5-fold corss validation accuracy:  0.606\n"
     ]
    }
   ],
   "source": [
    "clf_image = get_clf()\n",
    "clf_image.fit(image_X, image_Y)\n",
    "\n",
    "print type(clf_image.coef_)\n",
    "print clf_image.coef_.shape\n",
    "print \"5-fold corss validation accuracy: \", do_cross_validation(image_X, image_Y, 5)"
   ]
  },
  {
   "cell_type": "code",
   "execution_count": 158,
   "metadata": {
    "collapsed": false,
    "scrolled": true
   },
   "outputs": [
    {
     "data": {
      "image/png": "[encoded data removed]",
      "text/plain": [
       "<matplotlib.figure.Figure at 0x1854a7f0>"
      ]
     },
     "metadata": {},
     "output_type": "display_data"
    },
    {
     "data": {
      "text/plain": [
       "[0.622,\n",
       " 0.64599999999999991,\n",
       " 0.64200000000000002,\n",
       " 0.63200000000000001,\n",
       " 0.60599999999999998,\n",
       " 0.59000000000000008]"
      ]
     },
     "execution_count": 158,
     "metadata": {},
     "output_type": "execute_result"
    }
   ],
   "source": [
    "def tune_c_image(image_X, image_Y):\n",
    "    accuracies = [do_cross_validation(image_X, image_Y, n_folds=5, c=i)\\\n",
    "                  for i in [0.01, 0.05, 0.1, 0.15, 1, 10]]\n",
    "    plt.plot([0.01, 0.05, 0.1, 0.5, 1, 10], accuracies, \"bo-\")\n",
    "    plt.ylabel(\"accuracy\")\n",
    "    plt.xlabel(\"C\")\n",
    "    plt.show()\n",
    "    return accuracies\n",
    "\n",
    "tune_c_image(image_X, image_Y)"
   ]
  },
  {
   "cell_type": "markdown",
   "metadata": {},
   "source": [
    "### C= 0.05 for LRL2"
   ]
  },
  {
   "cell_type": "markdown",
   "metadata": {},
   "source": [
    "### accuracy in 5-fold CV: 0.646"
   ]
  },
  {
   "cell_type": "markdown",
   "metadata": {},
   "source": [
    "#### The accuracy is far smaller than that of classification based on text"
   ]
  },
  {
   "cell_type": "markdown",
   "metadata": {},
   "source": [
    "### Let us see how classifier purely based on images performs on test dataset"
   ]
  },
  {
   "cell_type": "code",
   "execution_count": 159,
   "metadata": {
    "collapsed": false
   },
   "outputs": [],
   "source": [
    "visual_test = sort(get_files(\"testData\"+os.sep+\"image\"+os.sep+\"pos\"))+\\\n",
    "                sort(get_files(\"testData\"+os.sep+\"image\"+os.sep+\"neg\"))\n",
    "visual_test_data = quantization(featureExtract(visual_test)[1], vocabulary)"
   ]
  },
  {
   "cell_type": "code",
   "execution_count": 177,
   "metadata": {
    "collapsed": true
   },
   "outputs": [],
   "source": [
    "final_classifier = get_clf(c=10).fit(image_X, image_Y)"
   ]
  },
  {
   "cell_type": "code",
   "execution_count": 178,
   "metadata": {
    "collapsed": false,
    "scrolled": true
   },
   "outputs": [
    {
     "name": "stdout",
     "output_type": "stream",
     "text": [
      "X_test represents 200 documents with 442 features\n",
      "y_test has 100 positive and 100 negative labels\n",
      "testing accuracy=0.7\n"
     ]
    }
   ],
   "source": [
    "visual_test_label = np.array([1]*100+[0]*100)\n",
    "\n",
    "print('X_test represents %d documents with %d features' % (visual_test_data.shape[0], visual_test_data.shape[1]))\n",
    "print('y_test has %d positive and %d negative labels' % (len(np.where(visual_test_label==1)[0]),\n",
    "                                                          len(np.where(visual_test_label==0)[0])))\n",
    "print('testing accuracy=%.4g' % accuracy_score(visual_test_label, final_classifier.predict(visual_test_data)))"
   ]
  },
  {
   "cell_type": "markdown",
   "metadata": {},
   "source": [
    "### **It performs not bad on the test set**"
   ]
  },
  {
   "cell_type": "markdown",
   "metadata": {},
   "source": [
    "### Result"
   ]
  },
  {
   "cell_type": "code",
   "execution_count": 21,
   "metadata": {
    "collapsed": false,
    "scrolled": true
   },
   "outputs": [
    {
     "data": {
      "image/png": "[encoded data removed]",
      "text/plain": [
       "<matplotlib.figure.Figure at 0x1600aa20>"
      ]
     },
     "metadata": {},
     "output_type": "display_data"
    }
   ],
   "source": [
    "def result():\n",
    "    fig, ax = plt.subplots()\n",
    "    test = [0.7, 0.82, 0.675]\n",
    "    train = [0.646, 0.828, 0.880]\n",
    "    x = [0.4, 0.8, 1.2]\n",
    "    models = ['image+BoW', 'text+MNB', 'image+text+BoW+LogR']\n",
    "    ax.bar(np.arange(len(models)), train,width=0.2,color='b',align='center', label='train')\n",
    "    ax.bar(np.arange(len(models))+0.2, test,width=0.2,color='r',align='center', label='test')\n",
    "    plt.xticks(np.arange(len(models)), models)\n",
    "    plt.ylabel('Accuracy')\n",
    "    plt.title('5-fold Cross Validation and Prediction Accuracy')\n",
    "    plt.legend(loc=2)\n",
    "    plt.tight_layout()\n",
    "    plt.show()\n",
    "\n",
    "result()"
   ]
  }
 ],
 "metadata": {
  "kernelspec": {
   "display_name": "Python 2",
   "language": "python",
   "name": "python2"
  },
  "language_info": {
   "codemirror_mode": {
    "name": "ipython",
    "version": 2
   },
   "file_extension": ".py",
   "mimetype": "text/x-python",
   "name": "python",
   "nbconvert_exporter": "python",
   "pygments_lexer": "ipython2",
   "version": "2.7.10"
  }
 },
 "nbformat": 4,
 "nbformat_minor": 0
}
