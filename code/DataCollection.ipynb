{
 "cells": [
  {
   "cell_type": "code",
   "execution_count": 1,
   "metadata": {
    "collapsed": false,
    "scrolled": true
   },
   "outputs": [],
   "source": [
    "import flickrapi as fl\n",
    "import urllib\n",
    "import time\n",
    "import os\n",
    "import io\n",
    "import ast\n",
    "def readConfig(filename):\n",
    "    with open(filename, 'r') as f:\n",
    "        return [line.strip().split()[-1] for line in f.readlines()]\n",
    "\n",
    "config = readConfig(\"flickrConfig.txt\")"
   ]
  },
  {
   "cell_type": "code",
   "execution_count": 2,
   "metadata": {
    "collapsed": false
   },
   "outputs": [],
   "source": [
    "key = config[0]\n",
    "secret = config[1]\n",
    "flickr = fl.FlickrAPI(key, secret, format='parsed-json')"
   ]
  },
  {
   "cell_type": "code",
   "execution_count": 3,
   "metadata": {
    "collapsed": false
   },
   "outputs": [],
   "source": [
    "def findurl(info):\n",
    "    farm = info['farm']\n",
    "    image_id = info['id']\n",
    "    image_secret = info['secret']\n",
    "    server = info['server']\n",
    "    return \"https://farm%s.staticflickr.com/%s/%s_%s.jpg\" \\\n",
    "% (farm, server, image_id, image_secret)\n"
   ]
  },
  {
   "cell_type": "code",
   "execution_count": 4,
   "metadata": {
    "collapsed": true
   },
   "outputs": [],
   "source": [
    "def findText(photoid):\n",
    "    info = flickr.photos.getinfo(photo_id=photoid)\n",
    "    text = {}\n",
    "    text['description'] = info['photo']['description']['_content']\n",
    "    text['comments'] = []\n",
    "    if int(info['photo']['comments']['_content'])>0:\n",
    "        comments = flickr.photos.comments.getList(photo_id=photoid)\n",
    "        for comment in comments['comments']['comment']:\n",
    "            text['comments'].append(comment['_content'])\n",
    "    return text"
   ]
  },
  {
   "cell_type": "code",
   "execution_count": 5,
   "metadata": {
    "collapsed": false
   },
   "outputs": [],
   "source": [
    "#search photos for specific tags.\n",
    "#Only search for photos taken in the United States.\n",
    "def search(tags, tag_mode, num=500, RATE_LIMIT = 3600):\n",
    "    '''\n",
    "    Input:\n",
    "    tags --- a comma-delimited list of tags\n",
    "    tag_mode --- Either 'any' for an OR combination of tags, or 'all' for an AND combination.\n",
    "    num --- number of photo urls returned. Max=500.\n",
    "    Output: \n",
    "    a list of photo urls and text information\n",
    "    '''\n",
    "    count = 0\n",
    "    time.clock()\n",
    "    if time.clock()%3600 == 0:\n",
    "        count = 0\n",
    "    if count > RATE_LIMIT:\n",
    "        raise NameError('Hit rate limit')\n",
    "    photos = flickr.photos.search(tags=tags, tag_mode=tag_mode, per_page=num, woe_id='23424977')\n",
    "    photoList = photos['photos']['photo']\n",
    "    info = []\n",
    "    for photo in photoList:\n",
    "        data = (findurl(photo), findText(photo['id']))\n",
    "        data[1]['title'] = photo['title']\n",
    "        info.append(data)\n",
    "    return info"
   ]
  },
  {
   "cell_type": "code",
   "execution_count": 24,
   "metadata": {
    "collapsed": false,
    "scrolled": true
   },
   "outputs": [],
   "source": [
    "urlPos = search(\"happy\", \"any\", num=100)\n",
    "urlNeg = search(\"sad, negative\", \"any\", num=100)\n"
   ]
  },
  {
   "cell_type": "code",
   "execution_count": 25,
   "metadata": {
    "collapsed": false
   },
   "outputs": [
    {
     "name": "stdout",
     "output_type": "stream",
     "text": [
      "number of positive images: 100\n",
      "number of negative images: 100\n"
     ]
    }
   ],
   "source": [
    "print \"number of positive images: %d\" % (len(urlPos))\n",
    "print \"number of negative images: %d\" % (len(urlNeg))"
   ]
  },
  {
   "cell_type": "code",
   "execution_count": 26,
   "metadata": {
    "collapsed": false
   },
   "outputs": [
    {
     "name": "stdout",
     "output_type": "stream",
     "text": [
      "Finished!\n"
     ]
    }
   ],
   "source": [
    "def writeData(data, label, folderName):\n",
    "    '''\n",
    "    Input:\n",
    "    data --- a list of image url and corresponding text information\n",
    "    label --- sentimental label, positive or negative\n",
    "    folderName --- the folder name to be created\n",
    "    Output:\n",
    "    a folder containning labeled data file\n",
    "    '''\n",
    "    if not os.path.exists(folderName):\n",
    "        os.makedirs(folderName)\n",
    "    f = open(folderName+os.sep+label+\".txt\", \"w\")\n",
    "    for item in data:\n",
    "        f.write(str(item))\n",
    "        f.write(\"\\n\\n\")\n",
    "    print \"Finished!\"\n",
    "    f.close()\n",
    "    \n",
    "writeData(urlPos, \"Positive\", \"testData\")\n",
    "writeData(urlNeg, \"Negative\", \"testData\")"
   ]
  },
  {
   "cell_type": "code",
   "execution_count": 20,
   "metadata": {
    "collapsed": false
   },
   "outputs": [],
   "source": [
    "#find all urls in a text file\n",
    "def findurlist(folder, label):\n",
    "    string = io.open(folder+os.sep+label+\".txt\", encoding='utf8').readlines()\n",
    "    info = [item.strip() for item in string if len(item)>1]\n",
    "    return [ast.literal_eval(item)[0] for item in info]\n",
    "        \n",
    "def download(folder, label):\n",
    "    path = folder+os.sep+\"image\"+os.sep+label\n",
    "    if not os.path.exists(path):\n",
    "            os.makedirs(path)\n",
    "    if label == \"neg\":\n",
    "        label = \"Negative\"\n",
    "    else:\n",
    "        label = \"Positive\"\n",
    "    urls = findurlist(folder, label)\n",
    "    i=0\n",
    "    for url in urls:\n",
    "        urllib.urlretrieve(url, path + os.sep+str(i)+\".jpg\")\n",
    "        print \"Image\", i, \"finished.\"\n",
    "        i += 1 "
   ]
  },
  {
   "cell_type": "code",
   "execution_count": 27,
   "metadata": {
    "collapsed": false
   },
   "outputs": [
    {
     "name": "stdout",
     "output_type": "stream",
     "text": [
      "Image 0 finished.\n",
      "Image 1 finished.\n",
      "Image 2 finished.\n",
      "Image 3 finished.\n",
      "Image 4 finished.\n",
      "Image 5 finished.\n",
      "Image 6 finished.\n",
      "Image 7 finished.\n",
      "Image 8 finished.\n",
      "Image 9 finished.\n",
      "Image 10 finished.\n",
      "Image 11 finished.\n",
      "Image 12 finished.\n",
      "Image 13 finished.\n",
      "Image 14 finished.\n",
      "Image 15 finished.\n",
      "Image 16 finished.\n",
      "Image 17 finished.\n",
      "Image 18 finished.\n",
      "Image 19 finished.\n",
      "Image 20 finished.\n",
      "Image 21 finished.\n",
      "Image 22 finished.\n",
      "Image 23 finished.\n",
      "Image 24 finished.\n",
      "Image 25 finished.\n",
      "Image 26 finished.\n",
      "Image 27 finished.\n",
      "Image 28 finished.\n",
      "Image 29 finished.\n",
      "Image 30 finished.\n",
      "Image 31 finished.\n",
      "Image 32 finished.\n",
      "Image 33 finished.\n",
      "Image 34 finished.\n",
      "Image 35 finished.\n",
      "Image 36 finished.\n",
      "Image 37 finished.\n",
      "Image 38 finished.\n",
      "Image 39 finished.\n",
      "Image 40 finished.\n",
      "Image 41 finished.\n",
      "Image 42 finished.\n",
      "Image 43 finished.\n",
      "Image 44 finished.\n",
      "Image 45 finished.\n",
      "Image 46 finished.\n",
      "Image 47 finished.\n",
      "Image 48 finished.\n",
      "Image 49 finished.\n",
      "Image 50 finished.\n",
      "Image 51 finished.\n",
      "Image 52 finished.\n",
      "Image 53 finished.\n",
      "Image 54 finished.\n",
      "Image 55 finished.\n",
      "Image 56 finished.\n",
      "Image 57 finished.\n",
      "Image 58 finished.\n",
      "Image 59 finished.\n",
      "Image 60 finished.\n",
      "Image 61 finished.\n",
      "Image 62 finished.\n",
      "Image 63 finished.\n",
      "Image 64 finished.\n",
      "Image 65 finished.\n",
      "Image 66 finished.\n",
      "Image 67 finished.\n",
      "Image 68 finished.\n",
      "Image 69 finished.\n",
      "Image 70 finished.\n",
      "Image 71 finished.\n",
      "Image 72 finished.\n",
      "Image 73 finished.\n",
      "Image 74 finished.\n",
      "Image 75 finished.\n",
      "Image 76 finished.\n",
      "Image 77 finished.\n",
      "Image 78 finished.\n",
      "Image 79 finished.\n",
      "Image 80 finished.\n",
      "Image 81 finished.\n",
      "Image 82 finished.\n",
      "Image 83 finished.\n",
      "Image 84 finished.\n",
      "Image 85 finished.\n",
      "Image 86 finished.\n",
      "Image 87 finished.\n",
      "Image 88 finished.\n",
      "Image 89 finished.\n",
      "Image 90 finished.\n",
      "Image 91 finished.\n",
      "Image 92 finished.\n",
      "Image 93 finished.\n",
      "Image 94 finished.\n",
      "Image 95 finished.\n",
      "Image 96 finished.\n",
      "Image 97 finished.\n",
      "Image 98 finished.\n",
      "Image 99 finished.\n"
     ]
    }
   ],
   "source": [
    "download(\"testData\", \"pos\")\n"
   ]
  }
 ],
 "metadata": {
  "kernelspec": {
   "display_name": "Python 2",
   "language": "python",
   "name": "python2"
  },
  "language_info": {
   "codemirror_mode": {
    "name": "ipython",
    "version": 2
   },
   "file_extension": ".py",
   "mimetype": "text/x-python",
   "name": "python",
   "nbconvert_exporter": "python",
   "pygments_lexer": "ipython2",
   "version": "2.7.10"
  }
 },
 "nbformat": 4,
 "nbformat_minor": 0
}
